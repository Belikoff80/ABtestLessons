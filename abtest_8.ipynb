{
 "cells": [
  {
   "cell_type": "markdown",
   "metadata": {},
   "source": [
    "Урок 8.   \n",
    "На сайте запущен А/В тест с целью увеличить доход.   \n",
    "В excel файле  сырые данные по результатам эксперимента – user_id, тип выборки variant_name и доход принесенный пользователем revenue.  \n",
    "Проанализируйте результаты эксперимента и напишите свои рекомендации менеджеру.\n"
   ]
  },
  {
   "cell_type": "code",
   "execution_count": 2,
   "metadata": {},
   "outputs": [],
   "source": [
    "from scipy import stats\n",
    "import numpy as np\n",
    "\n",
    "import warnings\n",
    "warnings.filterwarnings('ignore')\n",
    "warnings.warn('DelftStack')\n",
    "warnings.warn('Do not show this message')"
   ]
  },
  {
   "cell_type": "code",
   "execution_count": 3,
   "metadata": {},
   "outputs": [],
   "source": [
    "import matplotlib.pyplot as plt\n",
    "import seaborn as sns\n",
    "import pandas as pd"
   ]
  },
  {
   "cell_type": "code",
   "execution_count": 4,
   "metadata": {},
   "outputs": [],
   "source": [
    "data = pd.read_excel(\"AB_Test_Results_.xlsx\")"
   ]
  },
  {
   "cell_type": "code",
   "execution_count": 5,
   "metadata": {},
   "outputs": [
    {
     "data": {
      "text/html": [
       "<div>\n",
       "<style scoped>\n",
       "    .dataframe tbody tr th:only-of-type {\n",
       "        vertical-align: middle;\n",
       "    }\n",
       "\n",
       "    .dataframe tbody tr th {\n",
       "        vertical-align: top;\n",
       "    }\n",
       "\n",
       "    .dataframe thead th {\n",
       "        text-align: right;\n",
       "    }\n",
       "</style>\n",
       "<table border=\"1\" class=\"dataframe\">\n",
       "  <thead>\n",
       "    <tr style=\"text-align: right;\">\n",
       "      <th></th>\n",
       "      <th>USER_ID</th>\n",
       "      <th>VARIANT_NAME</th>\n",
       "      <th>REVENUE</th>\n",
       "    </tr>\n",
       "  </thead>\n",
       "  <tbody>\n",
       "    <tr>\n",
       "      <th>0</th>\n",
       "      <td>737</td>\n",
       "      <td>variant</td>\n",
       "      <td>0.0</td>\n",
       "    </tr>\n",
       "    <tr>\n",
       "      <th>1</th>\n",
       "      <td>2423</td>\n",
       "      <td>control</td>\n",
       "      <td>0.0</td>\n",
       "    </tr>\n",
       "    <tr>\n",
       "      <th>2</th>\n",
       "      <td>9411</td>\n",
       "      <td>control</td>\n",
       "      <td>0.0</td>\n",
       "    </tr>\n",
       "    <tr>\n",
       "      <th>3</th>\n",
       "      <td>7311</td>\n",
       "      <td>control</td>\n",
       "      <td>0.0</td>\n",
       "    </tr>\n",
       "    <tr>\n",
       "      <th>4</th>\n",
       "      <td>6174</td>\n",
       "      <td>variant</td>\n",
       "      <td>0.0</td>\n",
       "    </tr>\n",
       "  </tbody>\n",
       "</table>\n",
       "</div>"
      ],
      "text/plain": [
       "   USER_ID VARIANT_NAME  REVENUE\n",
       "0      737      variant      0.0\n",
       "1     2423      control      0.0\n",
       "2     9411      control      0.0\n",
       "3     7311      control      0.0\n",
       "4     6174      variant      0.0"
      ]
     },
     "execution_count": 5,
     "metadata": {},
     "output_type": "execute_result"
    }
   ],
   "source": [
    "data.head()"
   ]
  },
  {
   "cell_type": "code",
   "execution_count": 6,
   "metadata": {},
   "outputs": [
    {
     "name": "stdout",
     "output_type": "stream",
     "text": [
      "<class 'pandas.core.frame.DataFrame'>\n",
      "RangeIndex: 10000 entries, 0 to 9999\n",
      "Data columns (total 3 columns):\n",
      " #   Column        Non-Null Count  Dtype  \n",
      "---  ------        --------------  -----  \n",
      " 0   USER_ID       10000 non-null  int64  \n",
      " 1   VARIANT_NAME  10000 non-null  object \n",
      " 2   REVENUE       10000 non-null  float64\n",
      "dtypes: float64(1), int64(1), object(1)\n",
      "memory usage: 234.5+ KB\n"
     ]
    }
   ],
   "source": [
    "data.info()\n"
   ]
  },
  {
   "cell_type": "code",
   "execution_count": 7,
   "metadata": {},
   "outputs": [
    {
     "name": "stdout",
     "output_type": "stream",
     "text": [
      "Колличество строк в таблице     10000\n",
      "Колличество столбцов в таблице  3\n"
     ]
    }
   ],
   "source": [
    "print(f'Колличество строк в таблице {data.shape[0] : 9}\\nКолличество столбцов в таблице {data.shape[1] : 2}')"
   ]
  },
  {
   "cell_type": "code",
   "execution_count": 8,
   "metadata": {},
   "outputs": [
    {
     "name": "stdout",
     "output_type": "stream",
     "text": [
      "Статистические показатели для групп CONTROL и VARIANT    \n",
      "            REVENUE\n",
      "count  10000.000000\n",
      "mean       0.099447\n",
      "std        2.318529\n",
      "min        0.000000\n",
      "max      196.010000    \n",
      "\n",
      "Статистические показатели для группы CONTROL    \n",
      "           REVENUE\n",
      "count  4984.000000\n",
      "mean      0.129013\n",
      "std       3.007524\n",
      "min       0.000000\n",
      "max     196.010000    \n",
      "\n",
      "Статистические показатели для группы VARIANT    \n",
      "           REVENUE\n",
      "count  5016.000000\n",
      "mean      0.070070\n",
      "std       1.314802\n",
      "min       0.000000\n",
      "max      58.630000\n"
     ]
    }
   ],
   "source": [
    "print(f\"Статистические показатели для групп CONTROL и VARIANT\\\n",
    "    \\n{data.describe().drop('25%').drop('50%').drop('75%')[['REVENUE']]}\\\n",
    "    \\n\\nСтатистические показатели для группы CONTROL\\\n",
    "    \\n{data[data['VARIANT_NAME']== 'control'].describe().drop('25%').drop('50%').drop('75%')[['REVENUE']]}\\\n",
    "    \\n\\nСтатистические показатели для группы VARIANT\\\n",
    "    \\n{data[data['VARIANT_NAME']== 'variant'].describe().drop('25%').drop('50%').drop('75%')[['REVENUE']]}\")\n"
   ]
  },
  {
   "cell_type": "code",
   "execution_count": 9,
   "metadata": {},
   "outputs": [
    {
     "name": "stdout",
     "output_type": "stream",
     "text": [
      "Можно заметить, что максимальный чек в группе CONTROL больше, чем в VARIANT:\n",
      "196.01 >> 58.63\n"
     ]
    }
   ],
   "source": [
    "print(f\"Можно заметить,\\\n",
    " что максимальный чек в группе CONTROL больше, чем в VARIANT:\\\n",
    "\\n{data[data['VARIANT_NAME']== 'control'].describe().drop('25%').drop('50%').drop('75%')[['REVENUE']].iloc[4][0]}\\\n",
    " >> {data[data['VARIANT_NAME']== 'variant'].describe().drop('25%').drop('50%').drop('75%')[['REVENUE']].iloc[4][0]}\")"
   ]
  },
  {
   "cell_type": "markdown",
   "metadata": {},
   "source": [
    "Проверка на нормальность распределения и применение статистических критериев:"
   ]
  },
  {
   "cell_type": "code",
   "execution_count": 32,
   "metadata": {},
   "outputs": [
    {
     "data": {
      "image/png": "[encoded data removed]",
      "text/plain": [
       "<Figure size 216x216 with 1 Axes>"
      ]
     },
     "metadata": {
      "needs_background": "light"
     },
     "output_type": "display_data"
    }
   ],
   "source": [
    "plt.figure(figsize=(3, 3))\n",
    "control = data['REVENUE'][data['VARIANT_NAME'] == 'control']\n",
    "variant =data['REVENUE'][data['VARIANT_NAME'] == 'variant']\n",
    "\n",
    "\n",
    "plt.hist(control, color='r', bins=15, alpha = 0.5)\n",
    "plt.hist(variant,  bins=15, alpha = 0.5)\n",
    "\n",
    "plt.show()"
   ]
  },
  {
   "cell_type": "code",
   "execution_count": 20,
   "metadata": {},
   "outputs": [
    {
     "name": "stdout",
     "output_type": "stream",
     "text": [
      "Ttest_indResult(statistic=1.268403803110966, pvalue=0.20469713432410774)\n",
      "Таким образом, мы отклоняем H0 о не равности средних квадраточных. Среднеквадратичные двух выборок равны.\n"
     ]
    }
   ],
   "source": [
    "print(f\"{stats.ttest_ind(control, variant, equal_var = False)}\\n\\\n",
    "Таким образом, мы отклоняем H0 о не равности средних квадраточных. Среднеквадратичные двух выборок равны.\")"
   ]
  },
  {
   "cell_type": "markdown",
   "metadata": {},
   "source": [
    "Мы не проверили количесво значений = 0. Поэтому результат проверки на нормальность получен с низкой визуализацией. Очистим датасет от значений REVENUE = 0"
   ]
  },
  {
   "cell_type": "code",
   "execution_count": 12,
   "metadata": {},
   "outputs": [
    {
     "name": "stdout",
     "output_type": "stream",
     "text": [
      "Колличество строк в таблице       152 \n",
      "Колличество столбцов в таблице    3\n"
     ]
    }
   ],
   "source": [
    "data1 = data[(data['REVENUE']>0)]\n",
    "print(f'Колличество строк в таблице {data1.shape[0] : 9} \\nКолличество столбцов в таблице {data1.shape[1] : 4}')"
   ]
  },
  {
   "cell_type": "code",
   "execution_count": 13,
   "metadata": {},
   "outputs": [
    {
     "data": {
      "text/plain": [
       "control    80\n",
       "variant    72\n",
       "Name: VARIANT_NAME, dtype: int64"
      ]
     },
     "execution_count": 13,
     "metadata": {},
     "output_type": "execute_result"
    }
   ],
   "source": [
    "data1.VARIANT_NAME.value_counts()"
   ]
  },
  {
   "cell_type": "code",
   "execution_count": 35,
   "metadata": {},
   "outputs": [
    {
     "data": {
      "image/png": "[encoded data removed]",
      "text/plain": [
       "<Figure size 216x216 with 1 Axes>"
      ]
     },
     "metadata": {
      "needs_background": "light"
     },
     "output_type": "display_data"
    },
    {
     "name": "stdout",
     "output_type": "stream",
     "text": [
      "None\n",
      "На графике видно, что распределение выборки не соответствует нормальному.\n"
     ]
    }
   ],
   "source": [
    "plt.figure(figsize=(3, 3))\n",
    "control1 = data1['REVENUE'][data1['VARIANT_NAME'] == 'control']\n",
    "variant1 =data1['REVENUE'][data1['VARIANT_NAME'] == 'variant']\n",
    "\n",
    "\n",
    "plt.hist(control1, color='r', bins=40, alpha = 0.5)\n",
    "plt.hist(variant1,  bins=40, alpha = 0.5)\n",
    "\n",
    "print(f\"{plt.show()}\\nНа графике видно, что распределение выборки не соответствует нормальному.\")"
   ]
  },
  {
   "cell_type": "code",
   "execution_count": 21,
   "metadata": {},
   "outputs": [
    {
     "name": "stdout",
     "output_type": "stream",
     "text": [
      "Ttest_indResult(statistic=1.1379124979933528, pvalue=0.25760685398932337)\n",
      "Таким образом, мы отклоняем H0 о не равности средних квадраточных. Среднеквадратичные двух выборок равны.\n"
     ]
    }
   ],
   "source": [
    "print(f\"{stats.ttest_ind(control1, variant1 , equal_var = False)}\\n\\\n",
    "Таким образом, мы отклоняем H0 о не равности средних квадраточных. Среднеквадратичные двух выборок равны.\")"
   ]
  },
  {
   "cell_type": "code",
   "execution_count": 39,
   "metadata": {},
   "outputs": [
    {
     "name": "stdout",
     "output_type": "stream",
     "text": [
      "Сумма оборота в контрольной группе 643.0,\n",
      "Сумма оборота в тестовой группе    351.47\n"
     ]
    }
   ],
   "source": [
    "k1 = data1[data1['VARIANT_NAME']=='control']['REVENUE'].sum()\n",
    "k2 = data1[data1['VARIANT_NAME']=='variant']['REVENUE'].sum()\n",
    "print(f\"Сумма оборота в контрольной группе {k1:5},\\nСумма оборота в тестовой группе {k2:9}\")"
   ]
  },
  {
   "cell_type": "code",
   "execution_count": 43,
   "metadata": {},
   "outputs": [
    {
     "name": "stdout",
     "output_type": "stream",
     "text": [
      "Выборка в контрольной группе    80,\n",
      "Выборка в тестовой группе       72\n"
     ]
    }
   ],
   "source": [
    "n1 = data1[data1['VARIANT_NAME']=='control'].shape[0]\n",
    "n2 = data1[data1['VARIANT_NAME']=='variant'].shape[0]\n",
    "print(f\"Выборка в контрольной группе {n1:5},\\nВыборка в тестовой группе {n2:8}\")"
   ]
  },
  {
   "cell_type": "code",
   "execution_count": 46,
   "metadata": {},
   "outputs": [
    {
     "name": "stdout",
     "output_type": "stream",
     "text": [
      "Проверка значимости разности данных в тестовой и контрольной группы по hi^2 критерию:\n",
      " chisq =-10.408, pvalue = 1.000\n"
     ]
    }
   ],
   "source": [
    "from statsmodels.stats import proportion\n",
    "chisq, pvalue, table = proportion.proportions_chisquare(np.array([k1, k2]),\n",
    "                                                   np.array([n1, n2]))\n",
    "\n",
    "print('Проверка значимости разности данных в тестовой и контрольной группы по hi^2 критерию:\\n','chisq =%.3f, pvalue = %.3f'%(chisq, pvalue))"
   ]
  },
  {
   "cell_type": "code",
   "execution_count": 48,
   "metadata": {},
   "outputs": [
    {
     "name": "stdout",
     "output_type": "stream",
     "text": [
      "H0 не отвергается\n"
     ]
    }
   ],
   "source": [
    "if abs(pvalue) < 0.05:\n",
    "    print(\"H0 отвергается!\")\n",
    "else:\n",
    "    print(\"H0 не отвергается\")"
   ]
  },
  {
   "cell_type": "markdown",
   "metadata": {},
   "source": [
    "Рекомендация менеджеру:  \n",
    "Отличия в тестовой и в контрольной группе не значимы.   \n",
    "То есть изменение в тестовой группе не повлияло значимо на показатели в оборота."
   ]
  }
 ],
 "metadata": {
  "kernelspec": {
   "display_name": "Python 3",
   "language": "python",
   "name": "python3"
  },
  "language_info": {
   "codemirror_mode": {
    "name": "ipython",
    "version": 3
   },
   "file_extension": ".py",
   "mimetype": "text/x-python",
   "name": "python",
   "nbconvert_exporter": "python",
   "pygments_lexer": "ipython3",
   "version": "3.10.6"
  },
  "orig_nbformat": 4
 },
 "nbformat": 4,
 "nbformat_minor": 2
}
