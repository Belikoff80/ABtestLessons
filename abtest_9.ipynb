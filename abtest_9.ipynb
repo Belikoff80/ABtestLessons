{
 "cells": [
  {
   "cell_type": "markdown",
   "metadata": {},
   "source": [
    "## <font color=\"#00bfff\">1.Cookie Cats - описание и цель проекта</font>\n",
    "\n",
    "Cookie Cats — популярная мобильная игра-головоломка, разработанная Tactile Entertainment. Это классическая игра-головоломка в стиле «соедини три», в которой игрок должен соединять плитки одного цвета, чтобы очистить игровое поле и выиграть уровень.\n",
    "    <p><img src=\"https://i.ytimg.com/vi/LkvnfULq8yQ/maxresdefault.jpg\" style=\"max-width:350px\"></p>\n",
    "<p>По мере прохождения уровней игры игроки будут время от времени сталкиваться с воротами, которые заставят их ждать нетривиальное количество времени или совершать покупки в приложении для прохождения. Помимо стимулирования покупок в приложении, эти ворота служат важной цели, давая игрокам принудительный перерыв в игре, что, как мы надеемся, приведет к увеличению и продлению удовольствия игрока от игры.</p>\n",
    "<p><img src=\"https://assets.datacamp.com/production/project_184/img/cc_gates.png\" style=\"max-width:350px\"></p>\n",
    "<p>Но где должны быть расположены ворота? Первоначально первые ворота были размещены на уровне 30, но в этом проекте проанализируем AB-тест, в котором переместили первые ворота в Cookie Cats с уровня 30 на уровень 40. В частности, рассмотрим влияние на удержание игроков. Приступим к изучению данных.</p>"
   ]
  },
  {
   "cell_type": "markdown",
   "metadata": {},
   "source": [
    "## <font color=\"#00bfff\">2. Данные и переменные</font>\n",
    "Имеются данные 90,189 игроков, установивших игру во время тестирования.   \n",
    "Описание переменных:  \n",
    "\n",
    "<li><code>userid</code> - уникальный номер каждого пользователя.</li>\n",
    "<li><code>version</code> - группа пользователей с версией: (<code>gate_30</code> - a gate at level 30) или с версией: (<code>gate_40</code> - a gate at level 40).</li>\n",
    "<li><code>sum_gamerounds</code> - количество раундов одним пользователем в течении 14 дней после установки.</li>\n",
    "<li><code>retention_1</code> - вернулся ли игрок и продолжил играть <strong>1 день</strong> после установки?</li>\n",
    "<li><code>retention_7</code> - вернулся ли игрок и продолжил играть <strong>7 дней</strong> после установки?</li>\n",
    "\n",
    "<p>При установки игры пользователь получает версию случайным образом <code>gate_30</code> или <code>gate_40</code>.\n"
   ]
  },
  {
   "cell_type": "code",
   "execution_count": 3,
   "metadata": {},
   "outputs": [
    {
     "data": {
      "text/html": [
       "<div>\n",
       "<style scoped>\n",
       "    .dataframe tbody tr th:only-of-type {\n",
       "        vertical-align: middle;\n",
       "    }\n",
       "\n",
       "    .dataframe tbody tr th {\n",
       "        vertical-align: top;\n",
       "    }\n",
       "\n",
       "    .dataframe thead th {\n",
       "        text-align: right;\n",
       "    }\n",
       "</style>\n",
       "<table border=\"1\" class=\"dataframe\">\n",
       "  <thead>\n",
       "    <tr style=\"text-align: right;\">\n",
       "      <th></th>\n",
       "      <th>userid</th>\n",
       "      <th>version</th>\n",
       "      <th>sum_gamerounds</th>\n",
       "      <th>retention_1</th>\n",
       "      <th>retention_7</th>\n",
       "    </tr>\n",
       "  </thead>\n",
       "  <tbody>\n",
       "    <tr>\n",
       "      <th>0</th>\n",
       "      <td>116</td>\n",
       "      <td>gate_30</td>\n",
       "      <td>3</td>\n",
       "      <td>0</td>\n",
       "      <td>0</td>\n",
       "    </tr>\n",
       "    <tr>\n",
       "      <th>1</th>\n",
       "      <td>337</td>\n",
       "      <td>gate_30</td>\n",
       "      <td>38</td>\n",
       "      <td>1</td>\n",
       "      <td>0</td>\n",
       "    </tr>\n",
       "    <tr>\n",
       "      <th>2</th>\n",
       "      <td>377</td>\n",
       "      <td>gate_40</td>\n",
       "      <td>165</td>\n",
       "      <td>1</td>\n",
       "      <td>0</td>\n",
       "    </tr>\n",
       "    <tr>\n",
       "      <th>3</th>\n",
       "      <td>483</td>\n",
       "      <td>gate_40</td>\n",
       "      <td>1</td>\n",
       "      <td>0</td>\n",
       "      <td>0</td>\n",
       "    </tr>\n",
       "    <tr>\n",
       "      <th>4</th>\n",
       "      <td>488</td>\n",
       "      <td>gate_40</td>\n",
       "      <td>179</td>\n",
       "      <td>1</td>\n",
       "      <td>1</td>\n",
       "    </tr>\n",
       "  </tbody>\n",
       "</table>\n",
       "</div>"
      ],
      "text/plain": [
       "   userid  version  sum_gamerounds  retention_1  retention_7\n",
       "0     116  gate_30               3            0            0\n",
       "1     337  gate_30              38            1            0\n",
       "2     377  gate_40             165            1            0\n",
       "3     483  gate_40               1            0            0\n",
       "4     488  gate_40             179            1            1"
      ]
     },
     "execution_count": 3,
     "metadata": {},
     "output_type": "execute_result"
    }
   ],
   "source": [
    "import pandas as pd\n",
    "import matplotlib.pyplot as plt\n",
    "df = pd.read_excel(\"Games_test_А_B.xlsx\")\n",
    "df.head()"
   ]
  },
  {
   "cell_type": "markdown",
   "metadata": {},
   "source": [
    "## <font color=\"#00bfff\">3. Статистический анализ</font>\n",
    "\n",
    "\n",
    "<p><img src=\"https://assets.datacamp.com/production/project_184/img/mr_waffles_smiling.png\" style=\"width:150px; float:right;margin: -15px 20px 1px 15px;\"> </p>\n",
    "\n",
    "Проведем анализ данных и выявим отличия между A/B группами в рамках данных переменных. \n",
    "\n",
    "Проверим количество участников:"
   ]
  },
  {
   "cell_type": "code",
   "execution_count": 5,
   "metadata": {},
   "outputs": [
    {
     "name": "stdout",
     "output_type": "stream",
     "text": [
      "Всего в исследовании приняло участие 90189 игроков\n"
     ]
    }
   ],
   "source": [
    "print(f'Всего в исследовании приняло участие {df[\"userid\"].nunique()} игроков')"
   ]
  },
  {
   "cell_type": "markdown",
   "metadata": {},
   "source": [
    "Проверим количество участников в каждой группе:"
   ]
  },
  {
   "cell_type": "code",
   "execution_count": 6,
   "metadata": {},
   "outputs": [
    {
     "data": {
      "text/html": [
       "<div>\n",
       "<style scoped>\n",
       "    .dataframe tbody tr th:only-of-type {\n",
       "        vertical-align: middle;\n",
       "    }\n",
       "\n",
       "    .dataframe tbody tr th {\n",
       "        vertical-align: top;\n",
       "    }\n",
       "\n",
       "    .dataframe thead th {\n",
       "        text-align: right;\n",
       "    }\n",
       "</style>\n",
       "<table border=\"1\" class=\"dataframe\">\n",
       "  <thead>\n",
       "    <tr style=\"text-align: right;\">\n",
       "      <th></th>\n",
       "      <th>userid</th>\n",
       "    </tr>\n",
       "    <tr>\n",
       "      <th>version</th>\n",
       "      <th></th>\n",
       "    </tr>\n",
       "  </thead>\n",
       "  <tbody>\n",
       "    <tr>\n",
       "      <th>gate_30</th>\n",
       "      <td>44700</td>\n",
       "    </tr>\n",
       "    <tr>\n",
       "      <th>gate_40</th>\n",
       "      <td>45489</td>\n",
       "    </tr>\n",
       "  </tbody>\n",
       "</table>\n",
       "</div>"
      ],
      "text/plain": [
       "         userid\n",
       "version        \n",
       "gate_30   44700\n",
       "gate_40   45489"
      ]
     },
     "execution_count": 6,
     "metadata": {},
     "output_type": "execute_result"
    }
   ],
   "source": [
    "\n",
    "df.groupby(\"version\")[[\"userid\"]].nunique()"
   ]
  },
  {
   "cell_type": "markdown",
   "metadata": {},
   "source": [
    "В группах примерно одинаковое количество игроков.  \n",
    "  \n",
    "Основное внимание в анализе будет уделено тому, как размещение ворот влияет на удержание игроков.  \n",
    "Для интереса построим график распределения количества игровых раундов, сыгранных игроками в течение первой недели игры."
   ]
  },
  {
   "cell_type": "code",
   "execution_count": 8,
   "metadata": {},
   "outputs": [
    {
     "data": {
      "image/png": "[encoded data removed]",
      "text/plain": [
       "<Figure size 432x288 with 1 Axes>"
      ]
     },
     "metadata": {
      "needs_background": "light"
     },
     "output_type": "display_data"
    }
   ],
   "source": [
    "plot_df = df.groupby(\"sum_gamerounds\")[\"userid\"].count()\n",
    "\n",
    "ax = plot_df.head(100).plot()\n",
    "plt.title(\"Распределение игроков\", fontweight=\"bold\", size=14)\n",
    "plt.xlabel(\"Всего раундов\", size=12)\n",
    "plt.ylabel(\"Количество игроков\", size=12)\n",
    "plt.show()"
   ]
  },
  {
   "cell_type": "markdown",
   "metadata": {},
   "source": [
    "На графике видно, некоторые игроки устанавливают игру, но никогда не играют в нее (0 игровых раундов). Найдем, сколько их."
   ]
  },
  {
   "cell_type": "code",
   "execution_count": 12,
   "metadata": {},
   "outputs": [
    {
     "name": "stdout",
     "output_type": "stream",
     "text": [
      "Игроки кто установил, но ни разу не играл: 3994\n"
     ]
    }
   ],
   "source": [
    "print(f'Игроки кто установил, но ни разу не играл: {df[df[\"sum_gamerounds\"]== 0][\"userid\"].count()}')"
   ]
  },
  {
   "cell_type": "markdown",
   "metadata": {},
   "source": [
    "<p><img src=\"https://assets.datacamp.com/production/project_184/img/belle_cookie.png\" style=\"width:150px; float:right\"> </p>\n",
    "\n",
    "3994 игроков установили игру но ни разу не играли. Не слишком ли это много?\n",
    "\n",
    "A common metric in the video gaming industry for how fun and engaging a game is retention: The percentage of players that come back and play the game 1-day and 7-days after they have installed it. The higher retention is, the easier it is to retain players and build a large player base.\n",
    "\n",
    "As a first step, let's look at what 1-day and 7-days retentions are overall.\n",
    "Обычный показатель в индустрии видеоигр для оценки того, насколько увлекательной и увлекательной является УДЕРЖАНИЕ: процент игроков, которые возвращаются и играют в игру через 1 и 7 дней после ее установки. Чем выше показатель удержания, тем легче удержать игроков и создать большую базу игроков.\n",
    "\n",
    "В качестве первого шага посмотрим показатели 1-дневное и 7-дневное удержание в целом."
   ]
  },
  {
   "cell_type": "code",
   "execution_count": 15,
   "metadata": {},
   "outputs": [
    {
     "name": "stdout",
     "output_type": "stream",
     "text": [
      "1-день удержание: 44.52%       \n",
      "7-дней удержание: 18.61%\n"
     ]
    }
   ],
   "source": [
    "df_retention = df[[\"retention_1\",\"retention_7\"]].mean()*100\n",
    "print(f\"1-день удержание: {round(df_retention[0],2)}% \\\n",
    "      \\n7-дней удержание: {round(df_retention[1],2)}%\")"
   ]
  },
  {
   "cell_type": "markdown",
   "metadata": {},
   "source": [
    "Через сутки после установки игры возвращается чуть меньше половины игроков.   \n",
    "18% игроков возвращаются через 7 дней после установки игры.\n",
    "\n",
    "Получив контрольный показатель посмотрим, как различаются коэффициенты удержания между двумя группами A/B."
   ]
  },
  {
   "cell_type": "code",
   "execution_count": 16,
   "metadata": {},
   "outputs": [
    {
     "data": {
      "text/html": [
       "<div>\n",
       "<style scoped>\n",
       "    .dataframe tbody tr th:only-of-type {\n",
       "        vertical-align: middle;\n",
       "    }\n",
       "\n",
       "    .dataframe tbody tr th {\n",
       "        vertical-align: top;\n",
       "    }\n",
       "\n",
       "    .dataframe thead th {\n",
       "        text-align: right;\n",
       "    }\n",
       "</style>\n",
       "<table border=\"1\" class=\"dataframe\">\n",
       "  <thead>\n",
       "    <tr style=\"text-align: right;\">\n",
       "      <th></th>\n",
       "      <th>userid</th>\n",
       "      <th>retention_1</th>\n",
       "      <th>retention_7</th>\n",
       "      <th>sum_gamerounds</th>\n",
       "    </tr>\n",
       "    <tr>\n",
       "      <th>version</th>\n",
       "      <th></th>\n",
       "      <th></th>\n",
       "      <th></th>\n",
       "      <th></th>\n",
       "    </tr>\n",
       "  </thead>\n",
       "  <tbody>\n",
       "    <tr>\n",
       "      <th>gate_30</th>\n",
       "      <td>44700</td>\n",
       "      <td>0.448188</td>\n",
       "      <td>0.190201</td>\n",
       "      <td>2344795</td>\n",
       "    </tr>\n",
       "    <tr>\n",
       "      <th>gate_40</th>\n",
       "      <td>45489</td>\n",
       "      <td>0.442283</td>\n",
       "      <td>0.182000</td>\n",
       "      <td>2333530</td>\n",
       "    </tr>\n",
       "  </tbody>\n",
       "</table>\n",
       "</div>"
      ],
      "text/plain": [
       "         userid  retention_1  retention_7  sum_gamerounds\n",
       "version                                                  \n",
       "gate_30   44700     0.448188     0.190201         2344795\n",
       "gate_40   45489     0.442283     0.182000         2333530"
      ]
     },
     "execution_count": 16,
     "metadata": {},
     "output_type": "execute_result"
    }
   ],
   "source": [
    "\n",
    "df_retention_ab = df.groupby(\"version\").agg({\"userid\":\"count\", \"retention_1\":\"mean\",\"retention_7\":\"mean\", \"sum_gamerounds\":\"sum\"})\n",
    "df_retention_ab"
   ]
  },
  {
   "cell_type": "markdown",
   "metadata": {},
   "source": [
    "<p><img src=\"https://assets.datacamp.com/production/project_184/img/ziggy_smiling.png\" style=\"width:150px; float:left;margin:20px 10px 5px 5px;\"> </p>\n",
    "\n",
    "* Наблюдалось небольшое снижение однодневного удержания, когда ворота были перемещены на уровень 40 (44,2%), по сравнению с контрольной группой, когда они находились на уровне 30 (44,8%).\n",
    "​\n",
    "* Опять же, снижение 7-дневного удержания, когда ворота были перемещены на уровень 40 (18,2%), по сравнению с контрольной группой, когда они находились на уровне 30 (19,8%).\n",
    "​\n",
    "* Это небольшое изменение, но даже небольшие изменения в удержании могут иметь большое значение. Хоть мы уверены в разнице данных, но насколько мы можем быть уверены, что ворота на уровне 40 в будущем будут также хуже?\n",
    "​\n",
    "Есть несколько способов, которыми мы можем получить достоверность этих показателей удержания. Здесь мы будем использовать\n",
    "​ **bootstrapping.**"
   ]
  },
  {
   "cell_type": "markdown",
   "metadata": {},
   "source": [
    "## <font color=\"#00bfff\"> 4. A/B Тестирование: Bootstrapping </font>\n",
    "\n",
    "**Описание метода:**\n",
    "\n",
    "<p><img src=\"https://upload.wikimedia.org/wikipedia/commons/thumb/f/fa/Stratified_sampling.PNG/300px-Stratified_sampling.PNG\" style=\" float: right;margin:5px 20px 5px 1px; max-width:250px\"></p>\n",
    "\n",
    "Мы будем использовать **bootstrapping** для A/B-тестирования. Основная идея bootstrapping заключается в том, что вывод о генеральной совокупности на основе данных выборки (выборка → совокупность) может быть смоделирован путем повторной выборки данных выборки и выполнения вывода о выборке из данных повторной выборки (повторная выборка → выборка). Поскольку совокупность неизвестна, истинная ошибка выборочной статистики по отношению к ее значению совокупности неизвестна. \n",
    "\n",
    "**Последовательность тестирования:**\n",
    "\n",
    "1. Создание 500 образцов набора данных **(начальная загрузка)**\n",
    "2. Расчет удержания за 1 и 7 дней для групп A/B.\n",
    "3. Построение загрузочных дистрибутивов\n",
    "4. Расчет разницы коэффициентов удержания между двумя группами A/B.\n",
    "5. Расчет вероятности того, что показатели удержания за 1 и 7 дней будут выше, когда ворота находятся на уровне 30.\n",
    "6. Оценка результатов и вынесение рекомендаций"
   ]
  },
  {
   "cell_type": "code",
   "execution_count": 21,
   "metadata": {},
   "outputs": [
    {
     "data": {
      "image/png": "[encoded data removed]",
      "text/plain": [
       "<Figure size 936x360 with 2 Axes>"
      ]
     },
     "metadata": {
      "needs_background": "light"
     },
     "output_type": "display_data"
    }
   ],
   "source": [
    "\n",
    "# Создаем списков bootstrapped means для обеих групп \n",
    "boot_1d = []\n",
    "boot_7d = []\n",
    "for i in range(500):\n",
    "    boot_mean_1 = df.sample(frac=1, replace=True).groupby('version')['retention_1'].mean()\n",
    "    boot_mean_7 = df.sample(frac=1, replace=True).groupby('version')['retention_7'].mean()\n",
    "    boot_1d.append(boot_mean_1)\n",
    "    boot_7d.append(boot_mean_7)\n",
    "    \n",
    "# Трансформирование списка в базу данных\n",
    "boot_1d = pd.DataFrame(boot_1d)\n",
    "boot_7d = pd.DataFrame(boot_7d)\n",
    "# # График оценки плотности ядра bootstrap распределений\n",
    "fig, (ax1,ax2) = plt.subplots(1, 2, sharey=True, figsize=(13,5))\n",
    "boot_1d.plot.kde(ax=ax1)\n",
    "ax1.set_xlabel(\"Удержание\",size=12)\n",
    "ax1.set_ylabel(\"Количестов примеров\",size=12)\n",
    "ax1.set_title(\"1 день удержание распределение\", fontweight=\"bold\",size=14)\n",
    "boot_7d.plot.kde(ax=ax2)\n",
    "ax2.set_xlabel(\"Удержание\",size=12)\n",
    "ax2.set_title(\"7 дней удержание распределения\", fontweight=\"bold\",size=14)\n",
    "plt.show()\n"
   ]
  },
  {
   "cell_type": "markdown",
   "metadata": {},
   "source": [
    "\n",
    "Два распределения выше представляют собой бутстрепную неопределенность в отношении того, каким может быть базовое 1-дневное и 7-дневное удержание для двух групп A/B. На графике можно увидеть, что есть некоторые признаки разницы, хотя и небольшой. Увеличим различия.  \n",
    "\n",
    "##(Обратите внимание, что в этой записной книжке мы ограничили количество загрузочных репликаций до 500, чтобы ускорить расчеты. В «производственной среде» мы, вероятно, увеличили бы это число до гораздо большего числа, скажем, до 10 000.)"
   ]
  },
  {
   "cell_type": "code",
   "execution_count": 23,
   "metadata": {},
   "outputs": [
    {
     "data": {
      "image/png": "[encoded data removed]",
      "text/plain": [
       "<Figure size 432x360 with 1 Axes>"
      ]
     },
     "metadata": {
      "needs_background": "light"
     },
     "output_type": "display_data"
    }
   ],
   "source": [
    "# Добавление столбца с разницей в % между двумя группами A/B\n",
    "boot_1d['diff'] = ((boot_1d['gate_30'] - boot_1d['gate_40']) / boot_1d['gate_40'] * 100)\n",
    "boot_7d['diff'] = ((boot_7d['gate_30'] - boot_7d['gate_40']) / boot_7d['gate_40'] * 100)\n",
    "# Построение bootstrap разницы в % \n",
    "fig, (ax1) = plt.subplots(1, 1,figsize=(6,5))\n",
    "\n",
    "boot_1d['diff'].plot.kde(ax=ax1, c=\"#ff99ff\", label = \"1 день удержание\")\n",
    "boot_7d['diff'].plot.kde(ax=ax1, c= \"#00bfff\", label = \"7 дней удержание\")\n",
    "ax1.set_xlabel(\"% Разница\",size=12)\n",
    "ax1.set_ylabel(\"% Плотность\",size=12)\n",
    "ax1.set_title(\"Разница удержания \\n между группами А/В\", fontweight=\"bold\", size=14)\n",
    "plt.legend()\n",
    "plt.show()"
   ]
  },
  {
   "cell_type": "markdown",
   "metadata": {},
   "source": [
    "<p><img src=\"https://assets.datacamp.com/production/project_184/img/ziggy_smiling.png\" style=\"width:100px; float:left; margin:10px 10px 5px 5px;\"> </p>\n",
    "<p>Из этой диаграммы видно, что наиболее вероятная разница в процентах составляет около 1–2% для 1-дневного удержания.   \n",
    "Для 7-дневного удержания наиболее вероятная разница в процентах составляет около 2–5%.   \n",
    "Причем большая часть распределения выше 0%, в пользу gate на 30 уровне. Но какова вероятность, что разница выше 0%? Проверим это.</p>"
   ]
  },
  {
   "cell_type": "code",
   "execution_count": 25,
   "metadata": {},
   "outputs": [
    {
     "name": "stdout",
     "output_type": "stream",
     "text": [
      "Вероятность того, что 1-дневное удержание выше, когда ворота находятся на уровне 30: 96.0%       \n",
      "Вероятность того, что 7-дневное удержание выше, когда ворота находятся на уровне 30: 100.0% \n"
     ]
    }
   ],
   "source": [
    "#Расчет вероятности того, что 1-дневное удержание выше, когда гейт находится на уровне 30\n",
    "prob_1 = (boot_1d['diff']>0).sum()/len(boot_1d['diff'])\n",
    "# Расчет вероятности того, что 7-дневное удержание выше, когда гейт находится на уровне 30\n",
    "prob_7 = (boot_7d['diff']>0).sum()/len(boot_7d['diff'])\n",
    "\n",
    "print(f\"Вероятность того, что 1-дневное удержание выше, когда ворота находятся на уровне 30: {round(prob_1,2)*100}% \\\n",
    "      \\nВероятность того, что 7-дневное удержание выше, когда ворота находятся на уровне 30: {(prob_7)*100}% \")"
   ]
  },
  {
   "cell_type": "markdown",
   "metadata": {},
   "source": [
    "## <font color=\"00bfff\">5. Вывод</font>\n",
    "\n",
    "<p><img src=\"https://assets.datacamp.com/production/project_184/img/cookie_yellow.png\" style=\"width:150px; float:right\"> </p>\n",
    "Результат bootstrap говорит нам о том, что существуют убедительные доказательства **99,8% вероятности** того, что 7-дневное удержание выше, когда ворота находятся на уровне 30, чем когда они находятся на уровне 40.\n",
    "\n",
    "Вывод таков: если мы хотим поддерживать высокий уровень удержания — как 1-дневный, так и 7-дневный — мы не должны <strong>не</strong> перемещать ворота с уровня 30 на уровень 40. Конечно, есть и другие показатели. мы могли бы посмотреть, например, на количество сыгранных игровых раундов или количество внутриигровых покупок, сделанных двумя группами AB. Но удержание <em>является</em> одним из самых важных показателей.\n"
   ]
  }
 ],
 "metadata": {
  "kernelspec": {
   "display_name": "Python 3",
   "language": "python",
   "name": "python3"
  },
  "language_info": {
   "codemirror_mode": {
    "name": "ipython",
    "version": 3
   },
   "file_extension": ".py",
   "mimetype": "text/x-python",
   "name": "python",
   "nbconvert_exporter": "python",
   "pygments_lexer": "ipython3",
   "version": "3.10.6"
  },
  "orig_nbformat": 4
 },
 "nbformat": 4,
 "nbformat_minor": 2
}
